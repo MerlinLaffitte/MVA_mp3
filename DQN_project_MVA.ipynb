{
 "cells": [
  {
   "cell_type": "markdown",
   "metadata": {},
   "source": [
    "**You may need to install [OpenCV](https://pypi.python.org/pypi/opencv-python) and [scikit-video](http://www.scikit-video.org/stable/).**"
   ]
  },
  {
   "cell_type": "code",
   "execution_count": 1,
   "metadata": {},
   "outputs": [
    {
     "name": "stderr",
     "output_type": "stream",
     "text": [
      "C:\\Anaconda3\\lib\\site-packages\\h5py\\__init__.py:34: FutureWarning: Conversion of the second argument of issubdtype from `float` to `np.floating` is deprecated. In future, it will be treated as `np.float64 == np.dtype(float).type`.\n",
      "  from ._conv import register_converters as _register_converters\n",
      "Using TensorFlow backend.\n"
     ]
    }
   ],
   "source": [
    "import keras\n",
    "import numpy as np\n",
    "import io\n",
    "import base64\n",
    "from IPython.display import HTML\n",
    "\n",
    "import skvideo\n",
    "skvideo.setFFmpegPath(\"C:/FFmpeg/bin\")\n",
    "import skvideo.io\n",
    "\n",
    "import cv2\n",
    "import json\n",
    "\n",
    "from keras.models import Sequential,model_from_json\n",
    "from keras.layers.core import Dense\n",
    "from keras.optimizers import sgd\n",
    "from keras.layers import Conv2D, MaxPooling2D, Activation, AveragePooling2D,Reshape,BatchNormalization"
   ]
  },
  {
   "cell_type": "markdown",
   "metadata": {},
   "source": [
    "# MiniProject #3: Deep Reinforcement Learning"
   ]
  },
  {
   "cell_type": "markdown",
   "metadata": {},
   "source": [
    "__Notations__: $E_p$ is the expectation under probability $p$. Please justify each of your answer and widely comment your code."
   ]
  },
  {
   "cell_type": "markdown",
   "metadata": {},
   "source": [
    "# Context"
   ]
  },
  {
   "cell_type": "markdown",
   "metadata": {},
   "source": [
    "In a reinforcement learning algorithm, we modelize each step $t$ as an action $a_t$ obtained from a state $s_t$, i.e. $\\{(a_{t},s_{t})_{t\\leq T}\\}$ having the Markov property. We consider a discount factor $\\gamma \\in [0,1]$ that ensures convergence. The goal is to find among all the policies $\\pi$, one that maximizes the expected reward:\n",
    "\n",
    "\\begin{equation*}\n",
    "R(\\pi)=\\sum_{t\\leq T}E_{p^{\\pi}}[\\gamma^t r(s_{t},a_{t})] \\> ,\n",
    "\\end{equation*}\n",
    "\n",
    "where: \n",
    "\\begin{equation*}p^{\\pi}(a_{0},a_{1},s_{1},...,a_{T},s_{T})=p(a_{0})\\prod_{t=1}^{T}\\pi(a_{t}|s_{t})p(s_{t+1}|s_{t},a_{t}) \\> .\n",
    "\\end{equation*}\n",
    "\n",
    "We note the $Q$-function:\n",
    "\n",
    "\\begin{equation*}Q^\\pi(s,a)=E_{p^{\\pi}}[\\sum_{t\\leq T}\\gamma^{t}r(s_{t},a_{t})|s_{0}=s,a_{0}=a] \\> .\n",
    "\\end{equation*}\n",
    "\n",
    "Thus, the optimal Q function is:\n",
    "\\begin{equation*}\n",
    "Q^*(s,a)=\\max_{\\pi}Q^\\pi(s,a) \\> .\n",
    "\\end{equation*}\n",
    "\n",
    "In this project, we will apply the deep reinforcement learning techniques to a simple game: an agent will have to learn from scratch a policy that will permit it maximizing a reward."
   ]
  },
  {
   "cell_type": "markdown",
   "metadata": {},
   "source": [
    "## The environment, the agent and the game"
   ]
  },
  {
   "cell_type": "markdown",
   "metadata": {},
   "source": [
    "### The environment"
   ]
  },
  {
   "cell_type": "markdown",
   "metadata": {},
   "source": [
    "```Environment``` is an abstract class that represents the states, rewards, and actions to obtain the new state."
   ]
  },
  {
   "cell_type": "code",
   "execution_count": 2,
   "metadata": {
    "collapsed": true
   },
   "outputs": [],
   "source": [
    "class Environment(object):\n",
    "    def __init__(self):\n",
    "        pass\n",
    "\n",
    "    def act(self, act):\n",
    "        \"\"\"\n",
    "        One can act on the environment and obtain its reaction:\n",
    "        - the new state\n",
    "        - the reward of the new state\n",
    "        - should we continue the game?\n",
    "\n",
    "        :return: state, reward, game_over\n",
    "        \"\"\"\n",
    "        pass\n",
    "\n",
    "\n",
    "    def reset(self):\n",
    "        \"\"\"\n",
    "        Reinitialize the environment to a random state and returns\n",
    "        the original state\n",
    "\n",
    "        :return: state\n",
    "        \"\"\"\n",
    "        pass\n",
    "    \n",
    "    def draw(self):\n",
    "        \"\"\"\n",
    "        Visualize in the console or graphically the current state\n",
    "        \"\"\"\n",
    "        pass"
   ]
  },
  {
   "cell_type": "markdown",
   "metadata": {},
   "source": [
    "The method ```act``` allows to act on the environment at a given state $s_t$ (stored internally), via action $a_t$. The method will return the new state $s_{t+1}$, the reward $r(s_{t},a_{t})$ and determines if $t\\leq T$ (*game_over*).\n",
    "\n",
    "The method ```reset``` simply reinitializes the environment to a random state $s_0$.\n",
    "\n",
    "The method ```draw``` displays the current state $s_t$ (this is useful to check the behavior of the Agent).\n",
    "\n",
    "We modelize $s_t$ as a tensor, while $a_t$ is an integer."
   ]
  },
  {
   "cell_type": "markdown",
   "metadata": {},
   "source": [
    "### The Agent"
   ]
  },
  {
   "cell_type": "markdown",
   "metadata": {},
   "source": [
    "The goal of the ```Agent``` is to interact with the ```Environment``` by proposing actions $a_t$ obtained from a given state $s_t$ to attempt to maximize its __reward__ $r(s_t,a_t)$. We propose the following abstract class:"
   ]
  },
  {
   "cell_type": "code",
   "execution_count": 3,
   "metadata": {
    "collapsed": true
   },
   "outputs": [],
   "source": [
    "class Agent(object):\n",
    "    def __init__(self, epsilon=0.1, n_action=4):\n",
    "        self.epsilon = epsilon\n",
    "        self.n_action = n_action\n",
    "    \n",
    "    def set_epsilon(self,e):\n",
    "        self.epsilon = e\n",
    "\n",
    "    def act(self,s,train=True):\n",
    "        \"\"\" This function should return the next action to do:\n",
    "        an integer between 0 and 4 (not included) with a random exploration of epsilon\"\"\"\n",
    "        if train:\n",
    "            if np.random.rand() <= self.epsilon:\n",
    "                a = np.random.randint(0, self.n_action, size=1)[0]\n",
    "            else:\n",
    "                a = self.learned_act(s)\n",
    "        else: # in some cases, this can improve the performance.. remove it if poor performances\n",
    "            a = self.learned_act(s)\n",
    "\n",
    "        return a\n",
    "\n",
    "    def learned_act(self,s):\n",
    "        \"\"\" Act via the policy of the agent, from a given state s\n",
    "        it proposes an action a\"\"\"\n",
    "        pass\n",
    "\n",
    "    def reinforce(self, s, n_s, a, r, game_over_):\n",
    "        \"\"\" This function is the core of the learning algorithm. \n",
    "        It takes as an input the current state s_, the next state n_s_\n",
    "        the action a_ used to move from s_ to n_s_ and the reward r_.\n",
    "        \n",
    "        Its goal is to learn a policy.\n",
    "        \"\"\"\n",
    "        pass\n",
    "\n",
    "    def save(self):\n",
    "        \"\"\" This function returns basic stats if applicable: the\n",
    "        loss and/or the model\"\"\"\n",
    "        pass\n",
    "\n",
    "    def load(self):\n",
    "        \"\"\" This function allows to restore a model\"\"\"\n",
    "        pass"
   ]
  },
  {
   "cell_type": "markdown",
   "metadata": {},
   "source": [
    "***\n",
    "__Question 1__:\n",
    "Explain the function act. Why is ```epsilon``` essential?"
   ]
  },
  {
   "cell_type": "markdown",
   "metadata": {},
   "source": [
    "We are using an epsilon-greedy policy for this learning algorithm. This policy concerns the decision making capacity of the algorithm regarding the state to be visited next.\n",
    "The epsilon represents the tradeoff between 1)Visiting a new random state 2)Chosing an action that was previously learned.\n",
    "If epsilon is close to 0, the algorithm won't be able to explore new behaviours and learn new actions if it is close to 1 the algorithm's choices will be close to random and won't learn any patterns. "
   ]
  },
  {
   "cell_type": "markdown",
   "metadata": {},
   "source": [
    "***\n",
    "### The Game"
   ]
  },
  {
   "cell_type": "markdown",
   "metadata": {},
   "source": [
    "The ```Agent``` and the ```Environment``` work in an interlaced way as in the following (take some time to understand this code as it is the core of the project)\n",
    "\n",
    "```python\n",
    "\n",
    "epoch = 300\n",
    "env = Environment()\n",
    "agent = Agent()\n",
    "\n",
    "\n",
    "# Number of won games\n",
    "score = 0\n",
    "loss = 0\n",
    "\n",
    "\n",
    "for e in range(epoch):\n",
    "    # At each epoch, we restart to a fresh game and get the initial state\n",
    "    state = env.reset()\n",
    "    # This assumes that the games will end\n",
    "    game_over = False\n",
    "\n",
    "    win = 0\n",
    "    lose = 0\n",
    "    \n",
    "    while not game_over:\n",
    "        # The agent performs an action\n",
    "        action = agent.act(state)\n",
    "\n",
    "        # Apply an action to the environment, get the next state, the reward\n",
    "        # and if the games end\n",
    "        prev_state = state\n",
    "        state, reward, game_over = env.act(action)\n",
    "\n",
    "        # Update the counters\n",
    "        if reward > 0:\n",
    "            win = win + reward\n",
    "        if reward < 0:\n",
    "            lose = lose -reward\n",
    "\n",
    "        # Apply the reinforcement strategy\n",
    "        loss = agent.reinforce(prev_state, state,  action, reward, game_over)\n",
    "\n",
    "    # Save as a mp4\n",
    "    if e % 10 == 0:\n",
    "        env.draw(e)\n",
    "\n",
    "    # Update stats\n",
    "    score += win-lose\n",
    "\n",
    "    print(\"Epoch {:03d}/{:03d} | Loss {:.4f} | Win/lose count {}/{} ({})\"\n",
    "          .format(e, epoch, loss, win, lose, win-lose))\n",
    "    agent.save()\n",
    "```"
   ]
  },
  {
   "cell_type": "markdown",
   "metadata": {},
   "source": [
    "# The game, *eat cheese*"
   ]
  },
  {
   "cell_type": "markdown",
   "metadata": {},
   "source": [
    "A rat runs on an island and tries to eat as much as possible. The island is subdivided into $N\\times N$ cells, in which there are cheese (+0.5) and poisonous cells (-1). The rat has a visibility of 2 cells (thus it can see $5^2$ cells). The rat is given a time $T$ to accumulate as much food as possible. It can perform 4 actions: going up, down, left, right. \n",
    "\n",
    "The goal is to code an agent to solve this task that will learn by trial and error. We propose the following environment:"
   ]
  },
  {
   "cell_type": "code",
   "execution_count": 4,
   "metadata": {
    "collapsed": true
   },
   "outputs": [],
   "source": [
    "class Environment(object):\n",
    "    def __init__(self, grid_size=10, max_time=500, temperature=0.1):\n",
    "        grid_size = grid_size+4\n",
    "        self.grid_size = grid_size\n",
    "        self.max_time = max_time\n",
    "        self.temperature = temperature\n",
    "\n",
    "        #board on which one plays\n",
    "        self.board = np.zeros((grid_size,grid_size))\n",
    "        self.position = np.zeros((grid_size,grid_size))\n",
    "\n",
    "        # coordinate of the cat\n",
    "        self.x = 0\n",
    "        self.y = 1\n",
    "\n",
    "        # self time\n",
    "        self.t = 0\n",
    "\n",
    "        self.scale=16\n",
    "\n",
    "        self.to_draw = np.zeros((max_time+2, grid_size*self.scale, grid_size*self.scale, 3))\n",
    "\n",
    "\n",
    "    def draw(self,e):\n",
    "        skvideo.io.vwrite(str(e) + '.mp4', self.to_draw)\n",
    "\n",
    "    def get_frame(self,t):\n",
    "        b = np.zeros((self.grid_size,self.grid_size,3))+128\n",
    "        b[self.board>0,0] = 256\n",
    "        b[self.board < 0, 2] = 256\n",
    "        b[self.x,self.y,:]=256\n",
    "        b[-2:,:,:]=0\n",
    "        b[:,-2:,:]=0\n",
    "        b[:2,:,:]=0\n",
    "        b[:,:2,:]=0\n",
    "        \n",
    "        b =  cv2.resize(b, None, fx=self.scale, fy=self.scale, interpolation=cv2.INTER_NEAREST)\n",
    "\n",
    "        self.to_draw[t,:,:,:]=b\n",
    "\n",
    "\n",
    "    def act(self, action):\n",
    "        \"\"\"This function returns the new state, reward and decides if the\n",
    "        game ends.\"\"\"\n",
    "\n",
    "        self.get_frame(int(self.t))\n",
    "\n",
    "        self.position = np.zeros((self.grid_size, self.grid_size))\n",
    "\n",
    "        self.position[0:2,:]= -1\n",
    "        self.position[:,0:2] = -1\n",
    "        self.position[-2:, :] = -1\n",
    "        self.position[-2:, :] = -1\n",
    "\n",
    "        self.position[self.x, self.y] = 1\n",
    "        if action == 0:\n",
    "            if self.x == self.grid_size-3:\n",
    "                self.x = self.x-1\n",
    "            else:\n",
    "                self.x = self.x + 1\n",
    "        elif action == 1:\n",
    "            if self.x == 2:\n",
    "                self.x = self.x+1\n",
    "            else:\n",
    "                self.x = self.x-1\n",
    "        elif action == 2:\n",
    "            if self.y == self.grid_size - 3:\n",
    "                self.y = self.y - 1\n",
    "            else:\n",
    "                self.y = self.y + 1\n",
    "        elif action == 3:\n",
    "            if self.y == 2:\n",
    "                self.y = self.y + 1\n",
    "            else:\n",
    "                self.y = self.y - 1\n",
    "        else:\n",
    "            RuntimeError('Error: action not recognized')\n",
    "\n",
    "        self.t = self.t + 1\n",
    "        reward = self.board[self.x, self.y]\n",
    "        self.board[self.x, self.y] = 0\n",
    "        game_over = self.t > self.max_time\n",
    "        state = np.concatenate((self.board.reshape(self.grid_size, self.grid_size,1),\n",
    "                        self.position.reshape(self.grid_size, self.grid_size,1)),axis=2)\n",
    "        state = state[self.x-2:self.x+3,self.y-2:self.y+3,:]\n",
    "\n",
    "        return state, reward, game_over\n",
    "\n",
    "    def reset(self):\n",
    "        \"\"\"This function resets the game and returns the initial state\"\"\"\n",
    "\n",
    "        self.x = np.random.randint(3, self.grid_size-3, size=1)[0]\n",
    "        self.y = np.random.randint(3, self.grid_size-3, size=1)[0]\n",
    "\n",
    "\n",
    "        bonus = 0.5*np.random.binomial(1,self.temperature,size=self.grid_size**2)\n",
    "        bonus = bonus.reshape(self.grid_size,self.grid_size)\n",
    "\n",
    "        malus = -1.0*np.random.binomial(1,self.temperature,size=self.grid_size**2)\n",
    "        malus = malus.reshape(self.grid_size, self.grid_size)\n",
    "\n",
    "        self.to_draw = np.zeros((self.max_time+2, self.grid_size*self.scale, self.grid_size*self.scale, 3))\n",
    "\n",
    "\n",
    "        malus[bonus>0]=0\n",
    "\n",
    "        self.board = bonus + malus\n",
    "\n",
    "        self.position = np.zeros((self.grid_size, self.grid_size))\n",
    "        self.position[0:2,:]= -1\n",
    "        self.position[:,0:2] = -1\n",
    "        self.position[-2:, :] = -1\n",
    "        self.position[-2:, :] = -1\n",
    "        self.board[self.x,self.y] = 0\n",
    "        self.t = 0\n",
    "\n",
    "        state = np.concatenate((\n",
    "                               self.board.reshape(self.grid_size, self.grid_size,1),\n",
    "                        self.position.reshape(self.grid_size, self.grid_size,1)),axis=2)\n",
    "\n",
    "        state = state[self.x - 2:self.x + 3, self.y - 2:self.y + 3, :]\n",
    "        return state"
   ]
  },
  {
   "cell_type": "markdown",
   "metadata": {},
   "source": [
    "The following elements are important because they correspond to the hyper parameters for this project:"
   ]
  },
  {
   "cell_type": "code",
   "execution_count": 5,
   "metadata": {},
   "outputs": [],
   "source": [
    "# parameters\n",
    "size = 13\n",
    "T=200\n",
    "temperature=0.3\n",
    "epochs_train= 10#?? # set small when debugging\n",
    "epochs_test=10#?? # set small when debugging\n",
    "\n",
    "# display videos\n",
    "def display_videos(name):\n",
    "    video = io.open(name, 'r+b').read()\n",
    "    encoded = base64.b64encode(video)\n",
    "    return '''<video alt=\"test\" controls>\n",
    "                <source src=\"data:video/mp4;base64,{0}\" type=\"video/mp4\" />\n",
    "             </video>'''.format(encoded.decode('ascii'))"
   ]
  },
  {
   "cell_type": "markdown",
   "metadata": {},
   "source": [
    "__Question 2__ Explain the use of the arrays ```position``` and ```board```."
   ]
  },
  {
   "cell_type": "markdown",
   "metadata": {},
   "source": [
    "*Array Position*  \n",
    "This matrix is used to define the rat position and allowed moves. \n",
    "It contains \n",
    "- the actual position of the rat, set to 1\n",
    "- the other cells to which the rat can go, set to 0\n",
    "- the borders set to -1.\n",
    "\n",
    "*Array Board*  \n",
    "This matrix is used to define the environment.\n",
    "It contains : \n",
    "- 0 if the cell contains nothing\n",
    "- 0.5 if the cell contains a cheese\n",
    "- -1 if the cell is poisonous.\n"
   ]
  },
  {
   "cell_type": "markdown",
   "metadata": {},
   "source": [
    "## Random Agent"
   ]
  },
  {
   "cell_type": "markdown",
   "metadata": {},
   "source": [
    "***\n",
    "__Question 3__ Implement a random Agent (only ```learned_act``` needs to be implemented):"
   ]
  },
  {
   "cell_type": "code",
   "execution_count": 6,
   "metadata": {},
   "outputs": [],
   "source": [
    "class RandomAgent(Agent):\n",
    "    def __init__(self):\n",
    "        super(RandomAgent, self).__init__()\n",
    "        pass\n",
    "\n",
    "    def learned_act(self, s=0):\n",
    "        \"\"\"The random agent does not take into account the situation. It only returns random directions, \n",
    "        thus an integer between 0 and 3.\"\"\"\n",
    "        return np.random.randint(4)"
   ]
  },
  {
   "cell_type": "markdown",
   "metadata": {},
   "source": [
    "***\n",
    "***\n",
    "__Question 4__ Visualize the game moves. You need to fill in the following function for the evaluation:"
   ]
  },
  {
   "cell_type": "code",
   "execution_count": 7,
   "metadata": {
    "collapsed": true
   },
   "outputs": [],
   "source": [
    "def test(agent,env,epochs,prefix=''):\n",
    "    # Number of won games\n",
    "    score = 0\n",
    "        \n",
    "    for e in range(epochs):\n",
    "        \n",
    "        ##### FILL IN HERE\n",
    "        #Intialize the variables\n",
    "        win, lose, game_over = 0,0,0\n",
    "        \n",
    "        #Start the game\n",
    "        current_state = env.reset()\n",
    "        \n",
    "        while not game_over :\n",
    "            #The agent takes an action(random one)\n",
    "            action = agent.learned_act(current_state)\n",
    "            state, reward, game_over = env.act(action)\n",
    "            \n",
    "            #We iterate over win and lose rewards contribution\n",
    "            if reward >= 0:\n",
    "                win+=reward\n",
    "            else:\n",
    "                lose+=abs(reward)\n",
    "            \n",
    "        \n",
    "        \n",
    "        # Save as a mp4\n",
    "        env.draw(prefix+str(e))\n",
    "\n",
    "        # Update stats\n",
    "        score = score + win-lose\n",
    "\n",
    "        print(\"Win/lose count {}/{}. Average score ({})\"\n",
    "              .format(win, lose, score/(1+e)))\n",
    "    print('Final score: '+str(score/epochs))\n",
    "    \n",
    "    \n"
   ]
  },
  {
   "cell_type": "code",
   "execution_count": 8,
   "metadata": {},
   "outputs": [
    {
     "name": "stdout",
     "output_type": "stream",
     "text": [
      "Win/lose count 9.0/22.0. Average score (-13.0)\n",
      "Win/lose count 8.5/11.0. Average score (-7.75)\n",
      "Win/lose count 11.0/17.0. Average score (-7.166666666666667)\n",
      "Win/lose count 10.5/16.0. Average score (-6.75)\n",
      "Win/lose count 7.5/14.0. Average score (-6.7)\n",
      "Win/lose count 11.5/16.0. Average score (-6.333333333333333)\n",
      "Win/lose count 12.0/13.0. Average score (-5.571428571428571)\n",
      "Win/lose count 12.0/19.0. Average score (-5.75)\n",
      "Win/lose count 6.0/11.0. Average score (-5.666666666666667)\n",
      "Win/lose count 10.5/16.0. Average score (-5.65)\n",
      "Final score: -5.65\n"
     ]
    },
    {
     "data": {
      "text/html": [
       "<video alt=\"test\" controls>\n",
       "                <source src=\"data:video/mp4;base64,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\" type=\"video/mp4\" />\n",
       "             </video>"
      ],
      "text/plain": [
       "<IPython.core.display.HTML object>"
      ]
     },
     "execution_count": 8,
     "metadata": {},
     "output_type": "execute_result"
    }
   ],
   "source": [
    "# Initialize the game\n",
    "env = Environment(grid_size=size, max_time=T,temperature=temperature)\n",
    "\n",
    "# Initialize the agent!\n",
    "agent = RandomAgent()\n",
    "\n",
    "test(agent,env,epochs_test,prefix='random')\n",
    "HTML(display_videos('random0.mp4'))"
   ]
  },
  {
   "cell_type": "markdown",
   "metadata": {},
   "source": [
    "***\n",
    "## DQN"
   ]
  },
  {
   "cell_type": "markdown",
   "metadata": {},
   "source": [
    "Let us assume here that $T=\\infty$.\n",
    "\n",
    "***\n",
    "__Question 5__ Let $\\pi$ be a policy, show that:\n",
    "\n",
    "\\begin{equation*}\n",
    "Q^{\\pi}(s,a)=E_{(s',a')\\sim p(.|s,a)}[r(s,a)+\\gamma Q^{\\pi}(s',a')]\n",
    "\\end{equation*}\n",
    "\n",
    "Then, show that for the optimal policy $\\pi^*$ (we assume its existence), the following holds: \n",
    "\n",
    "\\begin{equation*}\n",
    "Q^{*}(s,a)=E_{s'\\sim \\pi^*(.|s,a)}[r(s,a)+\\gamma\\max_{a'}Q^{*}(s',a')].\n",
    "\\end{equation*}\n",
    "Finally, deduce that a plausible objective is:\n",
    "\n",
    "\\begin{equation*}\n",
    "\\mathcal{L}(\\theta)=E_{s' \\sim \\pi^*(.|s,a)}\\Vert r+\\gamma\\max\\max_{a'}Q(s',a',\\theta)-Q(s,a,\\theta)\\Vert^{2}.\n",
    "\\end{equation*}\n",
    "\n",
    "\n"
   ]
  },
  {
   "cell_type": "markdown",
   "metadata": {},
   "source": [
    ">**Demonstration** : \n",
    "By definition we have :  \n",
    "\n",
    ">$Q^\\pi(s,a) = E_\\pi \\Big[ \\overset{\\infty}{\\underset{k=0}{\\sum}} \\gamma^k r_{t+k} \\Big| s_t = s, a_t = a \\Big]$  \n",
    "\n",
    ">$= E\\Big[r(s,a) + \\overset{\\infty}{\\underset{k=1}{\\sum}} \\gamma^k r_{t+k} \\Big| s_t = s, a_t = a\\Big]$  \n",
    "\n",
    ">$ =  r(s,a) + \\gamma E\\left[E\\left[\\overset{\\infty}{\\underset{k=0}{\\sum}}[\\gamma^k r_{t+1+k}|s_{t+1}=s',a_{t+1}=a'\\right]|s_t = s, a_t = a\\right]$\n",
    "\n",
    ">$ = r(s,a) + \\gamma \\underset{(s',a')}{\\sum}(p(s_{t+1}=s',a_{t+1}=a' |s_t = s, a_t = a ))*E[\\overset{\\infty}{\\underset{k=0}{\\sum}}\\gamma^k r_{t+1+k}|s_{t+1}=s',a_{t+1}=a']$\n",
    "\n",
    ">$ =  \\underset{(s',a')}{\\sum} (p(s_{t+1}=s',a_{t+1}=a' |s_t = s, a_t = a ) r(s,a) + \\underset{(s',a')}{\\sum}(p(s_{t+1}=s',a_{t+1}=a' |s_t = s, a_t = a ))*E[\\sum_{k=0}^{\\infty}\\gamma^k r_{t+1+k}|s_{t+1}=s',a_{t+1}=a']$\n",
    "\n",
    ">$= E_{(s',a')\\sim p(.|s,a)}[r(s,a)+\\gamma Q^{\\pi}(s',a')]$\n",
    "$~$\n",
    "   \n",
    ">We also have : \n",
    "\n",
    ">$Q^*(s,a) = \\underset{(a',\\pi')}{\\max}\\left[E_{(s',a')\\sim p(.|s,a)}\\left(r(s,a)+\\gamma Q^{(a',\\pi')}(s',a')\\right)\\right] $\n",
    "\n",
    ">$ = \\underset{(a',\\pi')}{\\max}\\left[r(s,a) + \\gamma \\sum(p(s_{t+1}=s' |s_t = s, a_t = a )Q^{(a',\\pi')}(s',a')\\right]$\n",
    "\n",
    ">$= r(s,a) + \\gamma * \\underset{(a',\\pi')}{\\max}\\left[ \\sum(p(s_{t+1}=s' |s_t = s, a_t = a )Q^{(a',\\pi')}(s',a')\\right] $\n",
    "\n",
    "$~$\n",
    "\n",
    ">Finally :\n",
    ">$Q^{*}(s,a) = r(s,a) + \\gamma  \\overset{\\infty}{\\underset{k=0}{\\sum}}(p(s_{t+1}=s' |s_t = s, a_t = a )\\underset{a'}{\\max}\\underset{\\pi'}{\\max}Q^{\\pi'}(s',a') $\n",
    ">$= r(s,a) + \\gamma \\overset{\\infty}{\\underset{k=0}{\\sum}}(p(s_{t+1}=s' |s_t = s, a_t = a )\\underset{a'}{\\max} Q^{*}(s',a') $\n",
    ">$=E_{s'\\sim \\pi^*(.|s,a)}\\left[r(s,a)+\\gamma\\underset{a'}{\\max}Q^{*}(s',a')\\right]$\n",
    "\n",
    "$~$\n",
    "\n",
    ">And a plausible objective function is then : \n",
    "\n",
    ">$\\mathcal{L}(\\theta)=E_{s' \\sim \\pi^*(.|s,a)}\\Vert r+\\gamma\\max_{a'}\\left(Q(s',a',\\theta)-Q(s,a,\\theta)\\right)\\Vert^{2}$\n"
   ]
  },
  {
   "cell_type": "markdown",
   "metadata": {},
   "source": [
    "***\n",
    "The DQN-learning algorithm relies on these derivations to train the parameters $\\theta$ of a Deep Neural Network:\n",
    "\n",
    "1. At the state $s_t$, select the action $a_t$ with best reward using $Q_t$ and store the results;\n",
    "\n",
    "2. Obtain the new state $s_{t+1}$ from the environment $p$;\n",
    "\n",
    "3. Store $(s_t,a_t,s_{t+1})$;\n",
    "\n",
    "4. Obtain $Q_{t+1}$ by minimizing  $\\mathcal{L}$ from a recovered batch from the previously stored results.\n",
    "\n",
    "***\n",
    "__Question 6__ Implement the class ```Memory``` that stores moves (in a replay buffer) via ```remember``` and provides a ```random_access``` to these. Specify a maximum memory size to avoid side effects. You can for example use a ```list()``` and set by default ```max_memory=100```."
   ]
  },
  {
   "cell_type": "code",
   "execution_count": 9,
   "metadata": {
    "collapsed": true
   },
   "outputs": [],
   "source": [
    "class Memory(object):\n",
    "    def __init__(self, max_memory=100):\n",
    "        self.max_memory = max_memory\n",
    "        self.memory = list()\n",
    "\n",
    "    def remember(self, m):\n",
    "        self.memory.append(m)\n",
    "        if len(self.memory) > self.max_memory:\n",
    "            self.memory.pop(0)\n",
    "\n",
    "    def random_access(self):\n",
    "        id_random = np.random.randint(len(self.memory))\n",
    "        return self.memory[id_random]"
   ]
  },
  {
   "cell_type": "markdown",
   "metadata": {},
   "source": [
    "***\n",
    "The pipeline we will use for training is given below:"
   ]
  },
  {
   "cell_type": "code",
   "execution_count": 21,
   "metadata": {
    "collapsed": true
   },
   "outputs": [],
   "source": [
    "def train(agent,env,epoch,prefix=''):\n",
    "    # Number of won games\n",
    "    score = 0\n",
    "    loss = 0\n",
    "\n",
    "    for e in range(epoch):\n",
    "        # At each epoch, we restart to a fresh game and get the initial state\n",
    "        state = env.reset()\n",
    "        # This assumes that the games will terminate\n",
    "        game_over = False\n",
    "\n",
    "        win = 0\n",
    "        lose = 0\n",
    "\n",
    "        while not game_over:\n",
    "            # The agent performs an action\n",
    "            action = agent.act(state)\n",
    "\n",
    "            # Apply an action to the environment, get the next state, the reward\n",
    "            # and if the games end\n",
    "            prev_state = state\n",
    "            state, reward, game_over = env.act(action)\n",
    "\n",
    "            # Update the counters\n",
    "            if reward > 0:\n",
    "                win = win + reward\n",
    "            if reward < 0:\n",
    "                lose = lose -reward\n",
    "\n",
    "            # Apply the reinforcement strategy\n",
    "            loss = agent.reinforce(prev_state, state,  action, reward, game_over)\n",
    "\n",
    "        # Save as a mp4\n",
    "        if e % 10 == 0:\n",
    "            env.draw(prefix+str(e))\n",
    "\n",
    "        # Update stats\n",
    "        score += win-lose\n",
    "\n",
    "        print(\"Epoch {:03d}/{:03d} | Loss {:.4f} | Win/lose count {}/{} ({})\"\n",
    "              .format(e, epoch, loss, win, lose, win-lose))\n",
    "        agent.save(name_weights=prefix+'model.h5',name_model=prefix+'model.json')"
   ]
  },
  {
   "cell_type": "markdown",
   "metadata": {},
   "source": [
    "***\n",
    "__Question 7__ Implement the DQN training algorithm using a cascade of fully connected layers. You can use different learning rate, batch size or memory size parameters. In particular, the loss might oscillate while the player will start to win the games. You have to find a good criterium."
   ]
  },
  {
   "cell_type": "code",
   "execution_count": 22,
   "metadata": {},
   "outputs": [],
   "source": [
    "from keras.layers.core import Flatten\n",
    "\n",
    "class DQN(Agent):\n",
    "    def __init__(self, grid_size,  epsilon = 0.1, memory_size=100, batch_size = 16,n_state=2):\n",
    "        super(DQN, self).__init__(epsilon = epsilon)\n",
    "\n",
    "        # Discount for Q learning\n",
    "        self.discount = 0.99\n",
    "        \n",
    "        self.grid_size = grid_size\n",
    "        \n",
    "        # number of state\n",
    "        self.n_state = n_state\n",
    "\n",
    "        # Memory\n",
    "        self.memory = Memory(memory_size)\n",
    "        \n",
    "        # Batch size when learning\n",
    "        self.batch_size = batch_size\n",
    "\n",
    "    def learned_act(self, s):\n",
    "        actions = self.model.predict(np.expand_dims(s, 0))\n",
    "        id_max = np.argmax(actions)\n",
    "        return id_max\n",
    "\n",
    "    def reinforce(self, s_, n_s_, a_, r_, game_over_):\n",
    "        # Two steps: first memorize the states, second learn from the pool\n",
    "\n",
    "        self.memory.remember([s_, n_s_, a_, r_, game_over_])\n",
    "        \n",
    "        input_states = np.zeros((self.batch_size, 5,5,self.n_state))\n",
    "        target_q = np.zeros((self.batch_size, 4))\n",
    "        \n",
    "        for i in range(self.batch_size):\n",
    "            s_, n_s_, a_, r_, game_over_  = self.memory.random_access()            \n",
    "            actions = self.model.predict(np.expand_dims(s_, 0))\n",
    "            value_max_action = np.max(actions)\n",
    "            \n",
    "            target_q[i] = actions\n",
    "            \n",
    "            if game_over_:\n",
    "                input_states[i] = s_\n",
    "                target_q[i,a_] = r_\n",
    "            else:\n",
    "                input_states[i] = s_\n",
    "                target_q[i,a_] = r_  + self.discount * value_max_action\n",
    "        \n",
    "        # HINT: Clip the target to avoid exploiding gradients.. -- clipping is a bit tighter\n",
    "        target_q = np.clip(target_q, -3, 3) #-2,2 test\n",
    "        l = self.model.train_on_batch(input_states, target_q)\n",
    "        return l\n",
    "\n",
    "    def save(self,name_weights='model.h5',name_model='model.json'):\n",
    "        self.model.save_weights(name_weights, overwrite=True)\n",
    "        with open(name_model, \"w\") as outfile:\n",
    "            json.dump(self.model.to_json(), outfile)\n",
    "            \n",
    "    def load(self,name_weights='model.h5',name_model='model.json'):\n",
    "        with open(name_model, \"r\") as jfile:\n",
    "            model = model_from_json(json.load(jfile))\n",
    "        model.load_weights(name_weights)\n",
    "        model.compile(\"sgd\", \"mse\")\n",
    "        self.model = model\n",
    "\n",
    "            \n",
    "class DQN_FC(DQN):\n",
    "    def __init__(self, *args, lr=0.1,**kwargs):\n",
    "        super(DQN_FC, self).__init__( *args,**kwargs)\n",
    "        \n",
    "        # NN Model\n",
    "        model = Sequential()\n",
    "        model.add(Dense(64, input_shape=(5,5,self.n_state,),activation='relu'))\n",
    "        model.add(Dense(64, activation='relu'))\n",
    "        #model.add(Dropout(0.3))\n",
    "        model.add(Flatten())\n",
    "        model.add(Dense(64, activation='relu'))\n",
    "        model.add(Dense(4, activation='softmax'))\n",
    "        model.compile(sgd(lr=lr, decay=1e-4, momentum=0.1), \"mse\")\n",
    "        self.model = model\n",
    "        "
   ]
  },
  {
   "cell_type": "code",
   "execution_count": 19,
   "metadata": {},
   "outputs": [
    {
     "name": "stdout",
     "output_type": "stream",
     "text": [
      "Epoch 000/128 | Loss 0.0239 | Win/lose count 4.5/10.0 (-5.5)\n",
      "Epoch 001/128 | Loss 0.0210 | Win/lose count 12.5/14.0 (-1.5)\n",
      "Epoch 002/128 | Loss 0.0216 | Win/lose count 3.5/7.0 (-3.5)\n",
      "Epoch 003/128 | Loss 0.0185 | Win/lose count 8.0/8.0 (0.0)\n",
      "Epoch 004/128 | Loss 0.0049 | Win/lose count 4.5/7.0 (-2.5)\n",
      "Epoch 005/128 | Loss 0.0021 | Win/lose count 6.0/7.0 (-1.0)\n",
      "Epoch 006/128 | Loss 0.0149 | Win/lose count 6.0/5.0 (1.0)\n",
      "Epoch 007/128 | Loss 0.0195 | Win/lose count 4.0/7.0 (-3.0)\n",
      "Epoch 008/128 | Loss 0.0132 | Win/lose count 4.5/5.0 (-0.5)\n",
      "Epoch 009/128 | Loss 0.0050 | Win/lose count 3.0/5.0 (-2.0)\n",
      "Epoch 010/128 | Loss 0.0059 | Win/lose count 5.0/8.0 (-3.0)\n",
      "Epoch 011/128 | Loss 0.0129 | Win/lose count 7.5/7.0 (0.5)\n",
      "Epoch 012/128 | Loss 0.0127 | Win/lose count 11.0/13.0 (-2.0)\n",
      "Epoch 013/128 | Loss 0.0079 | Win/lose count 10.0/10.0 (0.0)\n",
      "Epoch 014/128 | Loss 0.0073 | Win/lose count 6.0/6.0 (0.0)\n",
      "Epoch 015/128 | Loss 0.0034 | Win/lose count 4.5/9.0 (-4.5)\n",
      "Epoch 016/128 | Loss 0.0068 | Win/lose count 8.0/8.0 (0.0)\n",
      "Epoch 017/128 | Loss 0.0096 | Win/lose count 12.5/10.0 (2.5)\n",
      "Epoch 018/128 | Loss 0.0060 | Win/lose count 5.0/4.0 (1.0)\n",
      "Epoch 019/128 | Loss 0.0132 | Win/lose count 7.0/5.0 (2.0)\n",
      "Epoch 020/128 | Loss 0.0087 | Win/lose count 10.0/7.0 (3.0)\n",
      "Epoch 021/128 | Loss 0.0156 | Win/lose count 13.0/9.0 (4.0)\n",
      "Epoch 022/128 | Loss 0.0143 | Win/lose count 13.0/4.0 (9.0)\n",
      "Epoch 023/128 | Loss 0.0080 | Win/lose count 5.5/6.0 (-0.5)\n",
      "Epoch 024/128 | Loss 0.0134 | Win/lose count 11.0/3.0 (8.0)\n",
      "Epoch 025/128 | Loss 0.0101 | Win/lose count 16.5/9.0 (7.5)\n",
      "Epoch 026/128 | Loss 0.0159 | Win/lose count 10.5/11.0 (-0.5)\n",
      "Epoch 027/128 | Loss 0.0192 | Win/lose count 17.5/6.0 (11.5)\n",
      "Epoch 028/128 | Loss 0.0144 | Win/lose count 14.0/10.0 (4.0)\n",
      "Epoch 029/128 | Loss 0.0192 | Win/lose count 14.0/10.0 (4.0)\n",
      "Epoch 030/128 | Loss 0.0176 | Win/lose count 18.0/10.0 (8.0)\n",
      "Epoch 031/128 | Loss 0.0273 | Win/lose count 15.5/8.0 (7.5)\n",
      "Epoch 032/128 | Loss 0.0220 | Win/lose count 12.5/5.0 (7.5)\n",
      "Epoch 033/128 | Loss 0.0175 | Win/lose count 14.5/3.0 (11.5)\n",
      "Epoch 034/128 | Loss 0.0297 | Win/lose count 20.0/8.0 (12.0)\n",
      "Epoch 035/128 | Loss 0.0341 | Win/lose count 9.5/7.0 (2.5)\n",
      "Epoch 036/128 | Loss 0.0141 | Win/lose count 17.0/9.0 (8.0)\n",
      "Epoch 037/128 | Loss 0.0313 | Win/lose count 11.0/8.0 (3.0)\n",
      "Epoch 038/128 | Loss 0.0170 | Win/lose count 7.5/3.0 (4.5)\n",
      "Epoch 039/128 | Loss 0.0209 | Win/lose count 4.5/8.0 (-3.5)\n",
      "Epoch 040/128 | Loss 0.0115 | Win/lose count 11.0/12.0 (-1.0)\n",
      "Epoch 041/128 | Loss 0.0308 | Win/lose count 14.0/5.0 (9.0)\n",
      "Epoch 042/128 | Loss 0.0317 | Win/lose count 17.0/14.0 (3.0)\n",
      "Epoch 043/128 | Loss 0.0232 | Win/lose count 8.5/8.0 (0.5)\n",
      "Epoch 044/128 | Loss 0.0163 | Win/lose count 10.5/8.0 (2.5)\n",
      "Epoch 045/128 | Loss 0.0072 | Win/lose count 8.5/5.0 (3.5)\n",
      "Epoch 046/128 | Loss 0.0247 | Win/lose count 16.0/11.0 (5.0)\n",
      "Epoch 047/128 | Loss 0.0174 | Win/lose count 14.0/12.0 (2.0)\n",
      "Epoch 048/128 | Loss 0.0217 | Win/lose count 10.0/7.0 (3.0)\n",
      "Epoch 049/128 | Loss 0.0317 | Win/lose count 12.5/11.0 (1.5)\n",
      "Epoch 050/128 | Loss 0.0311 | Win/lose count 16.5/13.0 (3.5)\n",
      "Epoch 051/128 | Loss 0.0333 | Win/lose count 15.5/13.0 (2.5)\n",
      "Epoch 052/128 | Loss 0.0249 | Win/lose count 14.0/13.0 (1.0)\n",
      "Epoch 053/128 | Loss 0.0212 | Win/lose count 13.0/15.0 (-2.0)\n",
      "Epoch 054/128 | Loss 0.0321 | Win/lose count 19.5/11.0 (8.5)\n",
      "Epoch 055/128 | Loss 0.0432 | Win/lose count 22.0/9.0 (13.0)\n",
      "Epoch 056/128 | Loss 0.0457 | Win/lose count 16.0/11.0 (5.0)\n",
      "Epoch 057/128 | Loss 0.0416 | Win/lose count 15.5/10.0 (5.5)\n",
      "Epoch 058/128 | Loss 0.0218 | Win/lose count 10.5/4.0 (6.5)\n",
      "Epoch 059/128 | Loss 0.0314 | Win/lose count 14.5/8.0 (6.5)\n",
      "Epoch 060/128 | Loss 0.0302 | Win/lose count 11.5/10.0 (1.5)\n",
      "Epoch 061/128 | Loss 0.0325 | Win/lose count 8.5/7.0 (1.5)\n",
      "Epoch 062/128 | Loss 0.0190 | Win/lose count 11.5/12.0 (-0.5)\n",
      "Epoch 063/128 | Loss 0.0278 | Win/lose count 19.0/7.0 (12.0)\n",
      "Epoch 064/128 | Loss 0.0322 | Win/lose count 16.0/7.0 (9.0)\n",
      "Epoch 065/128 | Loss 0.0276 | Win/lose count 21.5/12.0 (9.5)\n",
      "Epoch 066/128 | Loss 0.0365 | Win/lose count 12.5/9.0 (3.5)\n",
      "Epoch 067/128 | Loss 0.0289 | Win/lose count 17.5/12.0 (5.5)\n",
      "Epoch 068/128 | Loss 0.0304 | Win/lose count 18.5/9.0 (9.5)\n",
      "Epoch 069/128 | Loss 0.0374 | Win/lose count 8.5/6.0 (2.5)\n",
      "Epoch 070/128 | Loss 0.0324 | Win/lose count 18.0/12.0 (6.0)\n",
      "Epoch 071/128 | Loss 0.0299 | Win/lose count 14.5/8.0 (6.5)\n",
      "Epoch 072/128 | Loss 0.0188 | Win/lose count 13.5/8.0 (5.5)\n",
      "Epoch 073/128 | Loss 0.0238 | Win/lose count 15.0/9.0 (6.0)\n",
      "Epoch 074/128 | Loss 0.0317 | Win/lose count 14.5/9.0 (5.5)\n",
      "Epoch 075/128 | Loss 0.0252 | Win/lose count 15.5/11.0 (4.5)\n",
      "Epoch 076/128 | Loss 0.0525 | Win/lose count 14.0/9.0 (5.0)\n",
      "Epoch 077/128 | Loss 0.0193 | Win/lose count 12.5/11.0 (1.5)\n",
      "Epoch 078/128 | Loss 0.0331 | Win/lose count 18.5/9.0 (9.5)\n",
      "Epoch 079/128 | Loss 0.0130 | Win/lose count 7.0/11.0 (-4.0)\n",
      "Epoch 080/128 | Loss 0.0247 | Win/lose count 13.5/17.0 (-3.5)\n",
      "Epoch 081/128 | Loss 0.0258 | Win/lose count 15.5/11.0 (4.5)\n",
      "Epoch 082/128 | Loss 0.0224 | Win/lose count 12.0/8.0 (4.0)\n",
      "Epoch 083/128 | Loss 0.0196 | Win/lose count 14.5/12.0 (2.5)\n",
      "Epoch 084/128 | Loss 0.0429 | Win/lose count 17.0/13.0 (4.0)\n",
      "Epoch 085/128 | Loss 0.0325 | Win/lose count 12.0/10.0 (2.0)\n",
      "Epoch 086/128 | Loss 0.0222 | Win/lose count 11.0/15.0 (-4.0)\n",
      "Epoch 087/128 | Loss 0.0378 | Win/lose count 15.5/12.0 (3.5)\n",
      "Epoch 088/128 | Loss 0.0263 | Win/lose count 13.5/10.0 (3.5)\n",
      "Epoch 089/128 | Loss 0.0235 | Win/lose count 9.5/16.0 (-6.5)\n",
      "Epoch 090/128 | Loss 0.0204 | Win/lose count 7.5/6.0 (1.5)\n",
      "Epoch 091/128 | Loss 0.0177 | Win/lose count 13.5/12.0 (1.5)\n",
      "Epoch 092/128 | Loss 0.0149 | Win/lose count 13.5/9.0 (4.5)\n",
      "Epoch 093/128 | Loss 0.0140 | Win/lose count 16.0/10.0 (6.0)\n",
      "Epoch 094/128 | Loss 0.0291 | Win/lose count 19.0/10.0 (9.0)\n",
      "Epoch 095/128 | Loss 0.0285 | Win/lose count 13.0/11.0 (2.0)\n",
      "Epoch 096/128 | Loss 0.0514 | Win/lose count 18.5/14.0 (4.5)\n",
      "Epoch 097/128 | Loss 0.0160 | Win/lose count 19.5/13.0 (6.5)\n",
      "Epoch 098/128 | Loss 0.0295 | Win/lose count 10.5/8.0 (2.5)\n",
      "Epoch 099/128 | Loss 0.0180 | Win/lose count 8.5/10.0 (-1.5)\n",
      "Epoch 100/128 | Loss 0.0373 | Win/lose count 13.0/11.0 (2.0)\n",
      "Epoch 101/128 | Loss 0.0366 | Win/lose count 12.5/10.0 (2.5)\n",
      "Epoch 102/128 | Loss 0.0305 | Win/lose count 12.5/13.0 (-0.5)\n",
      "Epoch 103/128 | Loss 0.0163 | Win/lose count 7.0/11.0 (-4.0)\n",
      "Epoch 104/128 | Loss 0.0222 | Win/lose count 14.0/14.0 (0.0)\n",
      "Epoch 105/128 | Loss 0.0185 | Win/lose count 16.5/13.0 (3.5)\n",
      "Epoch 106/128 | Loss 0.0288 | Win/lose count 15.0/13.0 (2.0)\n",
      "Epoch 107/128 | Loss 0.0339 | Win/lose count 16.0/8.0 (8.0)\n",
      "Epoch 108/128 | Loss 0.0349 | Win/lose count 12.5/10.0 (2.5)\n",
      "Epoch 109/128 | Loss 0.0417 | Win/lose count 13.0/10.0 (3.0)\n",
      "Epoch 110/128 | Loss 0.0158 | Win/lose count 17.0/9.0 (8.0)\n",
      "Epoch 111/128 | Loss 0.0300 | Win/lose count 18.0/11.0 (7.0)\n",
      "Epoch 112/128 | Loss 0.0361 | Win/lose count 12.0/8.0 (4.0)\n",
      "Epoch 113/128 | Loss 0.0223 | Win/lose count 18.5/12.0 (6.5)\n",
      "Epoch 114/128 | Loss 0.0413 | Win/lose count 15.0/16.0 (-1.0)\n",
      "Epoch 115/128 | Loss 0.0553 | Win/lose count 17.0/16.0 (1.0)\n",
      "Epoch 116/128 | Loss 0.0262 | Win/lose count 10.5/8.0 (2.5)\n",
      "Epoch 117/128 | Loss 0.0423 | Win/lose count 6.5/6.0 (0.5)\n",
      "Epoch 118/128 | Loss 0.0190 | Win/lose count 12.0/15.0 (-3.0)\n",
      "Epoch 119/128 | Loss 0.0183 | Win/lose count 12.5/8.0 (4.5)\n",
      "Epoch 120/128 | Loss 0.0167 | Win/lose count 20.5/9.0 (11.5)\n",
      "Epoch 121/128 | Loss 0.0143 | Win/lose count 22.0/13.0 (9.0)\n",
      "Epoch 122/128 | Loss 0.0293 | Win/lose count 10.5/16.0 (-5.5)\n",
      "Epoch 123/128 | Loss 0.0257 | Win/lose count 11.0/8.0 (3.0)\n",
      "Epoch 124/128 | Loss 0.0251 | Win/lose count 18.0/7.0 (11.0)\n",
      "Epoch 125/128 | Loss 0.0336 | Win/lose count 16.0/14.0 (2.0)\n",
      "Epoch 126/128 | Loss 0.0264 | Win/lose count 7.5/2.0 (5.5)\n",
      "Epoch 127/128 | Loss 0.0158 | Win/lose count 15.0/9.0 (6.0)\n"
     ]
    },
    {
     "data": {
      "text/html": [
       "<video alt=\"test\" controls>\n",
       "                <source src=\"data:video/mp4;base64,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\" type=\"video/mp4\" />\n",
       "             </video>"
      ],
      "text/plain": [
       "<IPython.core.display.HTML object>"
      ]
     },
     "execution_count": 19,
     "metadata": {},
     "output_type": "execute_result"
    }
   ],
   "source": [
    "epochs_train = 128\n",
    "env = Environment(grid_size=size, max_time=T, temperature=0.3)\n",
    "agent = DQN_FC(size, lr=.1, epsilon = 0.4, memory_size=500, batch_size = 64)\n",
    "train(agent, env, epochs_train, prefix='fc_train')\n",
    "HTML(display_videos('fc_train120.mp4'))"
   ]
  },
  {
   "cell_type": "markdown",
   "metadata": {},
   "source": [
    "***\n",
    "***\n",
    "__Question 8__ Implement the DQN training algorithm using a CNN (for example, 2 convolutional layers and one final fully connected layer)."
   ]
  },
  {
   "cell_type": "code",
   "execution_count": 23,
   "metadata": {
    "collapsed": true
   },
   "outputs": [],
   "source": [
    "class DQN_CNN(DQN):\n",
    "    def __init__(self, *args,lr=0.1,**kwargs):\n",
    "        super(DQN_CNN, self).__init__(*args,**kwargs)\n",
    "        \n",
    "        model = Sequential()\n",
    "        model.add(Conv2D(32, (2,2), input_shape = (5, 5, self.n_state)))\n",
    "        model.add(Conv2D(32, (2,2)))\n",
    "        model.add(Flatten())\n",
    "        model.add(Dense(32, activation ='relu'))\n",
    "        model.add(Dense(4, activation = 'softmax'))\n",
    "        \n",
    "        model.compile(sgd(lr=lr, decay=1e-4, momentum=0.0), \"mse\")\n",
    "        self.model = model\n",
    "        print(self.model.summary())\n",
    "        \n",
    "    def learned_act(self, s):\n",
    "        scores = self.model.predict(s.reshape(1, 5, 5, self.n_state))\n",
    "        action = np.argmax(scores)\n",
    "        return action"
   ]
  },
  {
   "cell_type": "code",
   "execution_count": 13,
   "metadata": {
    "scrolled": true
   },
   "outputs": [
    {
     "name": "stdout",
     "output_type": "stream",
     "text": [
      "_________________________________________________________________\n",
      "Layer (type)                 Output Shape              Param #   \n",
      "=================================================================\n",
      "conv2d_1 (Conv2D)            (None, 4, 4, 32)          288       \n",
      "_________________________________________________________________\n",
      "conv2d_2 (Conv2D)            (None, 3, 3, 32)          4128      \n",
      "_________________________________________________________________\n",
      "flatten_1 (Flatten)          (None, 288)               0         \n",
      "_________________________________________________________________\n",
      "dense_1 (Dense)              (None, 32)                9248      \n",
      "_________________________________________________________________\n",
      "dense_2 (Dense)              (None, 4)                 132       \n",
      "=================================================================\n",
      "Total params: 13,796\n",
      "Trainable params: 13,796\n",
      "Non-trainable params: 0\n",
      "_________________________________________________________________\n",
      "None\n",
      "Epoch 000/064 | Loss 0.0094 | Win/lose count 6.0/3.0 (3.0)\n",
      "Epoch 001/064 | Loss 0.0080 | Win/lose count 13.5/0 (13.5)\n",
      "Epoch 002/064 | Loss 0.0133 | Win/lose count 16.0/3.0 (13.0)\n",
      "Epoch 003/064 | Loss 0.0061 | Win/lose count 5.0/4.0 (1.0)\n",
      "Epoch 004/064 | Loss 0.0076 | Win/lose count 13.0/3.0 (10.0)\n",
      "Epoch 005/064 | Loss 0.0144 | Win/lose count 16.0/8.0 (8.0)\n",
      "Epoch 006/064 | Loss 0.0092 | Win/lose count 9.0/6.0 (3.0)\n",
      "Epoch 007/064 | Loss 0.0128 | Win/lose count 11.5/5.0 (6.5)\n",
      "Epoch 008/064 | Loss 0.0048 | Win/lose count 15.5/7.0 (8.5)\n",
      "Epoch 009/064 | Loss 0.0212 | Win/lose count 9.0/7.0 (2.0)\n",
      "Epoch 010/064 | Loss 0.0108 | Win/lose count 20.0/7.0 (13.0)\n",
      "Epoch 011/064 | Loss 0.0289 | Win/lose count 24.0/6.0 (18.0)\n",
      "Epoch 012/064 | Loss 0.0209 | Win/lose count 16.0/4.0 (12.0)\n",
      "Epoch 013/064 | Loss 0.0200 | Win/lose count 15.0/8.0 (7.0)\n",
      "Epoch 014/064 | Loss 0.0386 | Win/lose count 18.5/14.0 (4.5)\n",
      "Epoch 015/064 | Loss 0.0211 | Win/lose count 16.5/6.0 (10.5)\n",
      "Epoch 016/064 | Loss 0.0186 | Win/lose count 14.5/7.0 (7.5)\n",
      "Epoch 017/064 | Loss 0.0143 | Win/lose count 22.5/13.0 (9.5)\n",
      "Epoch 018/064 | Loss 0.0216 | Win/lose count 21.5/6.0 (15.5)\n",
      "Epoch 019/064 | Loss 0.0267 | Win/lose count 30.5/9.0 (21.5)\n",
      "Epoch 020/064 | Loss 0.0278 | Win/lose count 20.5/9.0 (11.5)\n",
      "Epoch 021/064 | Loss 0.0522 | Win/lose count 22.5/12.0 (10.5)\n",
      "Epoch 022/064 | Loss 0.0257 | Win/lose count 19.5/15.0 (4.5)\n",
      "Epoch 023/064 | Loss 0.0474 | Win/lose count 30.5/9.0 (21.5)\n",
      "Epoch 024/064 | Loss 0.0324 | Win/lose count 29.0/10.0 (19.0)\n",
      "Epoch 025/064 | Loss 0.0636 | Win/lose count 42.0/12.0 (30.0)\n",
      "Epoch 026/064 | Loss 0.0372 | Win/lose count 34.0/12.0 (22.0)\n",
      "Epoch 027/064 | Loss 0.0451 | Win/lose count 41.5/14.0 (27.5)\n",
      "Epoch 028/064 | Loss 0.0806 | Win/lose count 27.5/6.0 (21.5)\n",
      "Epoch 029/064 | Loss 0.0448 | Win/lose count 39.0/7.0 (32.0)\n",
      "Epoch 030/064 | Loss 0.0612 | Win/lose count 40.5/10.0 (30.5)\n",
      "Epoch 031/064 | Loss 0.0468 | Win/lose count 43.0/8.0 (35.0)\n",
      "Epoch 032/064 | Loss 0.0578 | Win/lose count 33.5/8.0 (25.5)\n",
      "Epoch 033/064 | Loss 0.0489 | Win/lose count 24.0/7.0 (17.0)\n",
      "Epoch 034/064 | Loss 0.0578 | Win/lose count 36.5/10.0 (26.5)\n",
      "Epoch 035/064 | Loss 0.0655 | Win/lose count 29.0/15.0 (14.0)\n",
      "Epoch 036/064 | Loss 0.0275 | Win/lose count 32.0/12.0 (20.0)\n",
      "Epoch 037/064 | Loss 0.0638 | Win/lose count 42.0/11.0 (31.0)\n",
      "Epoch 038/064 | Loss 0.0359 | Win/lose count 33.0/7.0 (26.0)\n",
      "Epoch 039/064 | Loss 0.0429 | Win/lose count 33.0/2.0 (31.0)\n",
      "Epoch 040/064 | Loss 0.0528 | Win/lose count 43.5/16.0 (27.5)\n",
      "Epoch 041/064 | Loss 0.0910 | Win/lose count 30.0/6.0 (24.0)\n",
      "Epoch 042/064 | Loss 0.0742 | Win/lose count 25.5/11.0 (14.5)\n",
      "Epoch 043/064 | Loss 0.0541 | Win/lose count 45.0/8.0 (37.0)\n",
      "Epoch 044/064 | Loss 0.0445 | Win/lose count 46.5/9.0 (37.5)\n",
      "Epoch 045/064 | Loss 0.0429 | Win/lose count 31.5/9.0 (22.5)\n",
      "Epoch 046/064 | Loss 0.0457 | Win/lose count 40.5/9.0 (31.5)\n",
      "Epoch 047/064 | Loss 0.0903 | Win/lose count 29.0/18.0 (11.0)\n",
      "Epoch 048/064 | Loss 0.0270 | Win/lose count 44.5/16.0 (28.5)\n",
      "Epoch 049/064 | Loss 0.0375 | Win/lose count 35.5/10.0 (25.5)\n",
      "Epoch 050/064 | Loss 0.0636 | Win/lose count 44.0/11.0 (33.0)\n",
      "Epoch 051/064 | Loss 0.0617 | Win/lose count 26.5/4.0 (22.5)\n",
      "Epoch 052/064 | Loss 0.0539 | Win/lose count 40.0/15.0 (25.0)\n",
      "Epoch 053/064 | Loss 0.0921 | Win/lose count 27.5/16.0 (11.5)\n",
      "Epoch 054/064 | Loss 0.0628 | Win/lose count 24.0/6.0 (18.0)\n",
      "Epoch 055/064 | Loss 0.0823 | Win/lose count 40.0/18.0 (22.0)\n",
      "Epoch 056/064 | Loss 0.0603 | Win/lose count 47.5/3.0 (44.5)\n",
      "Epoch 057/064 | Loss 0.0560 | Win/lose count 32.5/16.0 (16.5)\n",
      "Epoch 058/064 | Loss 0.0578 | Win/lose count 32.5/10.0 (22.5)\n",
      "Epoch 059/064 | Loss 0.0369 | Win/lose count 39.0/8.0 (31.0)\n",
      "Epoch 060/064 | Loss 0.0694 | Win/lose count 44.5/8.0 (36.5)\n",
      "Epoch 061/064 | Loss 0.0408 | Win/lose count 37.0/11.0 (26.0)\n",
      "Epoch 062/064 | Loss 0.0636 | Win/lose count 46.0/15.0 (31.0)\n",
      "Epoch 063/064 | Loss 0.0467 | Win/lose count 20.0/8.0 (12.0)\n"
     ]
    },
    {
     "data": {
      "text/html": [
       "<video alt=\"test\" controls>\n",
       "                <source src=\"data:video/mp4;base64,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\" type=\"video/mp4\" />\n",
       "             </video>"
      ],
      "text/plain": [
       "<IPython.core.display.HTML object>"
      ]
     },
     "execution_count": 13,
     "metadata": {},
     "output_type": "execute_result"
    }
   ],
   "source": [
    "epochs_train = 64\n",
    "\n",
    "env = Environment(grid_size=size, max_time=T, temperature=0.7)\n",
    "agent = DQN_CNN(size, lr=.1, epsilon = 0.4, memory_size=1000, batch_size = 32)\n",
    "train(agent,env,epochs_train,prefix='cnn_train')\n",
    "HTML(display_videos('cnn_train10.mp4'))"
   ]
  },
  {
   "cell_type": "code",
   "execution_count": 36,
   "metadata": {},
   "outputs": [
    {
     "data": {
      "text/html": [
       "<video alt=\"test\" controls>\n",
       "                <source src=\"data:video/mp4;base64,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\" type=\"video/mp4\" />\n",
       "             </video>"
      ],
      "text/plain": [
       "<IPython.core.display.HTML object>"
      ]
     },
     "execution_count": 36,
     "metadata": {},
     "output_type": "execute_result"
    }
   ],
   "source": [
    "HTML(display_videos('cnn_train60.mp4'))"
   ]
  },
  {
   "cell_type": "code",
   "execution_count": 17,
   "metadata": {},
   "outputs": [
    {
     "name": "stdout",
     "output_type": "stream",
     "text": [
      "Test of the CNN\n",
      "Win/lose count 3.0/1.0. Average score (2.0)\n",
      "Win/lose count 2.0/0. Average score (2.0)\n",
      "Win/lose count 4.0/2.0. Average score (2.0)\n",
      "Win/lose count 2.0/0. Average score (2.0)\n",
      "Win/lose count 1.0/0. Average score (1.8)\n",
      "Win/lose count 0.5/0. Average score (1.5833333333333333)\n",
      "Win/lose count 2.0/0. Average score (1.6428571428571428)\n",
      "Win/lose count 1.5/1.0. Average score (1.5)\n",
      "Win/lose count 1.5/0. Average score (1.5)\n",
      "Win/lose count 1.0/0. Average score (1.45)\n",
      "Win/lose count 1.5/1.0. Average score (1.3636363636363635)\n",
      "Final score: 1.3636363636363635\n"
     ]
    }
   ],
   "source": [
    "epochs_test = 11\n",
    "print('Test of the CNN')\n",
    "test(agent,env,epochs_test,prefix='cnn_test')"
   ]
  },
  {
   "cell_type": "markdown",
   "metadata": {},
   "source": [
    "***\n",
    "***\n",
    "__Question 9__ Test both algorithms and compare their performances. Which issue(s) do you observe? Observe also different behaviors by changing the temperature."
   ]
  },
  {
   "cell_type": "code",
   "execution_count": 38,
   "metadata": {},
   "outputs": [
    {
     "data": {
      "text/plain": [
       "\"I don't know why but now I have an OS error when I run my tests\""
      ]
     },
     "execution_count": 38,
     "metadata": {},
     "output_type": "execute_result"
    }
   ],
   "source": [
    "\"\"\"I don't know why but now I have an OS error when I run my tests\"\"\""
   ]
  },
  {
   "cell_type": "code",
   "execution_count": 37,
   "metadata": {},
   "outputs": [
    {
     "name": "stdout",
     "output_type": "stream",
     "text": [
      "_________________________________________________________________\n",
      "Layer (type)                 Output Shape              Param #   \n",
      "=================================================================\n",
      "conv2d_23 (Conv2D)           (None, 4, 4, 32)          288       \n",
      "_________________________________________________________________\n",
      "conv2d_24 (Conv2D)           (None, 3, 3, 32)          4128      \n",
      "_________________________________________________________________\n",
      "flatten_21 (Flatten)         (None, 288)               0         \n",
      "_________________________________________________________________\n",
      "dense_61 (Dense)             (None, 32)                9248      \n",
      "_________________________________________________________________\n",
      "dense_62 (Dense)             (None, 4)                 132       \n",
      "=================================================================\n",
      "Total params: 13,796\n",
      "Trainable params: 13,796\n",
      "Non-trainable params: 0\n",
      "_________________________________________________________________\n",
      "None\n",
      "Test of the CNN\n"
     ]
    },
    {
     "ename": "OSError",
     "evalue": "[WinError 6] Descripteur non valide",
     "output_type": "error",
     "traceback": [
      "\u001b[1;31m---------------------------------------------------------------------------\u001b[0m",
      "\u001b[1;31mOSError\u001b[0m                                   Traceback (most recent call last)",
      "\u001b[1;32m<ipython-input-37-e6524d3513de>\u001b[0m in \u001b[0;36m<module>\u001b[1;34m()\u001b[0m\n\u001b[0;32m      7\u001b[0m \u001b[0magent_cnn\u001b[0m\u001b[1;33m.\u001b[0m\u001b[0mload\u001b[0m\u001b[1;33m(\u001b[0m\u001b[0mname_weights\u001b[0m\u001b[1;33m=\u001b[0m\u001b[1;34m'fc_trainmodel.h5'\u001b[0m\u001b[1;33m,\u001b[0m\u001b[0mname_model\u001b[0m\u001b[1;33m=\u001b[0m\u001b[1;34m'fc_trainmodel.json'\u001b[0m\u001b[1;33m)\u001b[0m\u001b[1;33m\u001b[0m\u001b[0m\n\u001b[0;32m      8\u001b[0m \u001b[0mprint\u001b[0m\u001b[1;33m(\u001b[0m\u001b[1;34m'Test of the CNN'\u001b[0m\u001b[1;33m)\u001b[0m\u001b[1;33m\u001b[0m\u001b[0m\n\u001b[1;32m----> 9\u001b[1;33m \u001b[0mtest\u001b[0m\u001b[1;33m(\u001b[0m\u001b[0magent_cnn\u001b[0m\u001b[1;33m,\u001b[0m\u001b[0menv\u001b[0m\u001b[1;33m,\u001b[0m\u001b[0mepochs_test\u001b[0m\u001b[1;33m,\u001b[0m\u001b[0mprefix\u001b[0m\u001b[1;33m=\u001b[0m\u001b[1;34m'cnn_test'\u001b[0m\u001b[1;33m)\u001b[0m\u001b[1;33m\u001b[0m\u001b[0m\n\u001b[0m\u001b[0;32m     10\u001b[0m \u001b[0mprint\u001b[0m\u001b[1;33m(\u001b[0m\u001b[1;34m'Test of the FC'\u001b[0m\u001b[1;33m)\u001b[0m\u001b[1;33m\u001b[0m\u001b[0m\n\u001b[0;32m     11\u001b[0m \u001b[0mtest\u001b[0m\u001b[1;33m(\u001b[0m\u001b[0magent_fc\u001b[0m\u001b[1;33m,\u001b[0m\u001b[0menv\u001b[0m\u001b[1;33m,\u001b[0m\u001b[0mepochs_test\u001b[0m\u001b[1;33m,\u001b[0m\u001b[0mprefix\u001b[0m\u001b[1;33m=\u001b[0m\u001b[1;34m'fc_test'\u001b[0m\u001b[1;33m)\u001b[0m\u001b[1;33m\u001b[0m\u001b[0m\n",
      "\u001b[1;32m<ipython-input-7-6d0d0b750b27>\u001b[0m in \u001b[0;36mtest\u001b[1;34m(agent, env, epochs, prefix)\u001b[0m\n\u001b[0;32m     26\u001b[0m \u001b[1;33m\u001b[0m\u001b[0m\n\u001b[0;32m     27\u001b[0m         \u001b[1;31m# Save as a mp4\u001b[0m\u001b[1;33m\u001b[0m\u001b[1;33m\u001b[0m\u001b[0m\n\u001b[1;32m---> 28\u001b[1;33m         \u001b[0menv\u001b[0m\u001b[1;33m.\u001b[0m\u001b[0mdraw\u001b[0m\u001b[1;33m(\u001b[0m\u001b[0mprefix\u001b[0m\u001b[1;33m+\u001b[0m\u001b[0mstr\u001b[0m\u001b[1;33m(\u001b[0m\u001b[0me\u001b[0m\u001b[1;33m)\u001b[0m\u001b[1;33m)\u001b[0m\u001b[1;33m\u001b[0m\u001b[0m\n\u001b[0m\u001b[0;32m     29\u001b[0m \u001b[1;33m\u001b[0m\u001b[0m\n\u001b[0;32m     30\u001b[0m         \u001b[1;31m# Update stats\u001b[0m\u001b[1;33m\u001b[0m\u001b[1;33m\u001b[0m\u001b[0m\n",
      "\u001b[1;32m<ipython-input-4-e0388e5699b8>\u001b[0m in \u001b[0;36mdraw\u001b[1;34m(self, e)\u001b[0m\n\u001b[0;32m     23\u001b[0m \u001b[1;33m\u001b[0m\u001b[0m\n\u001b[0;32m     24\u001b[0m     \u001b[1;32mdef\u001b[0m \u001b[0mdraw\u001b[0m\u001b[1;33m(\u001b[0m\u001b[0mself\u001b[0m\u001b[1;33m,\u001b[0m\u001b[0me\u001b[0m\u001b[1;33m)\u001b[0m\u001b[1;33m:\u001b[0m\u001b[1;33m\u001b[0m\u001b[0m\n\u001b[1;32m---> 25\u001b[1;33m         \u001b[0mskvideo\u001b[0m\u001b[1;33m.\u001b[0m\u001b[0mio\u001b[0m\u001b[1;33m.\u001b[0m\u001b[0mvwrite\u001b[0m\u001b[1;33m(\u001b[0m\u001b[0mstr\u001b[0m\u001b[1;33m(\u001b[0m\u001b[0me\u001b[0m\u001b[1;33m)\u001b[0m \u001b[1;33m+\u001b[0m \u001b[1;34m'.mp4'\u001b[0m\u001b[1;33m,\u001b[0m \u001b[0mself\u001b[0m\u001b[1;33m.\u001b[0m\u001b[0mto_draw\u001b[0m\u001b[1;33m)\u001b[0m\u001b[1;33m\u001b[0m\u001b[0m\n\u001b[0m\u001b[0;32m     26\u001b[0m \u001b[1;33m\u001b[0m\u001b[0m\n\u001b[0;32m     27\u001b[0m     \u001b[1;32mdef\u001b[0m \u001b[0mget_frame\u001b[0m\u001b[1;33m(\u001b[0m\u001b[0mself\u001b[0m\u001b[1;33m,\u001b[0m\u001b[0mt\u001b[0m\u001b[1;33m)\u001b[0m\u001b[1;33m:\u001b[0m\u001b[1;33m\u001b[0m\u001b[0m\n",
      "\u001b[1;32mC:\\Anaconda3\\lib\\site-packages\\skvideo\\io\\io.py\u001b[0m in \u001b[0;36mvwrite\u001b[1;34m(fname, videodata, inputdict, outputdict, backend, verbosity)\u001b[0m\n\u001b[0;32m     62\u001b[0m         \u001b[0mwriter\u001b[0m \u001b[1;33m=\u001b[0m \u001b[0mFFmpegWriter\u001b[0m\u001b[1;33m(\u001b[0m\u001b[0mfname\u001b[0m\u001b[1;33m,\u001b[0m \u001b[0minputdict\u001b[0m\u001b[1;33m=\u001b[0m\u001b[0minputdict\u001b[0m\u001b[1;33m,\u001b[0m \u001b[0moutputdict\u001b[0m\u001b[1;33m=\u001b[0m\u001b[0moutputdict\u001b[0m\u001b[1;33m,\u001b[0m \u001b[0mverbosity\u001b[0m\u001b[1;33m=\u001b[0m\u001b[0mverbosity\u001b[0m\u001b[1;33m)\u001b[0m\u001b[1;33m\u001b[0m\u001b[0m\n\u001b[0;32m     63\u001b[0m         \u001b[1;32mfor\u001b[0m \u001b[0mt\u001b[0m \u001b[1;32min\u001b[0m \u001b[0mrange\u001b[0m\u001b[1;33m(\u001b[0m\u001b[0mT\u001b[0m\u001b[1;33m)\u001b[0m\u001b[1;33m:\u001b[0m\u001b[1;33m\u001b[0m\u001b[0m\n\u001b[1;32m---> 64\u001b[1;33m             \u001b[0mwriter\u001b[0m\u001b[1;33m.\u001b[0m\u001b[0mwriteFrame\u001b[0m\u001b[1;33m(\u001b[0m\u001b[0mvideodata\u001b[0m\u001b[1;33m[\u001b[0m\u001b[0mt\u001b[0m\u001b[1;33m]\u001b[0m\u001b[1;33m)\u001b[0m\u001b[1;33m\u001b[0m\u001b[0m\n\u001b[0m\u001b[0;32m     65\u001b[0m         \u001b[0mwriter\u001b[0m\u001b[1;33m.\u001b[0m\u001b[0mclose\u001b[0m\u001b[1;33m(\u001b[0m\u001b[1;33m)\u001b[0m\u001b[1;33m\u001b[0m\u001b[0m\n\u001b[0;32m     66\u001b[0m     \u001b[1;32melif\u001b[0m \u001b[0mbackend\u001b[0m \u001b[1;33m==\u001b[0m \u001b[1;34m\"libav\"\u001b[0m\u001b[1;33m:\u001b[0m\u001b[1;33m\u001b[0m\u001b[0m\n",
      "\u001b[1;32mC:\\Anaconda3\\lib\\site-packages\\skvideo\\io\\abstract.py\u001b[0m in \u001b[0;36mwriteFrame\u001b[1;34m(self, im)\u001b[0m\n\u001b[0;32m    489\u001b[0m         \u001b[0mT\u001b[0m\u001b[1;33m,\u001b[0m \u001b[0mM\u001b[0m\u001b[1;33m,\u001b[0m \u001b[0mN\u001b[0m\u001b[1;33m,\u001b[0m \u001b[0mC\u001b[0m \u001b[1;33m=\u001b[0m \u001b[0mvid\u001b[0m\u001b[1;33m.\u001b[0m\u001b[0mshape\u001b[0m\u001b[1;33m\u001b[0m\u001b[0m\n\u001b[0;32m    490\u001b[0m         \u001b[1;32mif\u001b[0m \u001b[1;32mnot\u001b[0m \u001b[0mself\u001b[0m\u001b[1;33m.\u001b[0m\u001b[0mwarmStarted\u001b[0m\u001b[1;33m:\u001b[0m\u001b[1;33m\u001b[0m\u001b[0m\n\u001b[1;32m--> 491\u001b[1;33m             \u001b[0mself\u001b[0m\u001b[1;33m.\u001b[0m\u001b[0m_warmStart\u001b[0m\u001b[1;33m(\u001b[0m\u001b[0mM\u001b[0m\u001b[1;33m,\u001b[0m \u001b[0mN\u001b[0m\u001b[1;33m,\u001b[0m \u001b[0mC\u001b[0m\u001b[1;33m,\u001b[0m \u001b[0mim\u001b[0m\u001b[1;33m.\u001b[0m\u001b[0mdtype\u001b[0m\u001b[1;33m)\u001b[0m\u001b[1;33m\u001b[0m\u001b[0m\n\u001b[0m\u001b[0;32m    492\u001b[0m \u001b[1;33m\u001b[0m\u001b[0m\n\u001b[0;32m    493\u001b[0m         \u001b[0mvid\u001b[0m \u001b[1;33m=\u001b[0m \u001b[0mvid\u001b[0m\u001b[1;33m.\u001b[0m\u001b[0mclip\u001b[0m\u001b[1;33m(\u001b[0m\u001b[1;36m0\u001b[0m\u001b[1;33m,\u001b[0m \u001b[1;33m(\u001b[0m\u001b[1;36m1\u001b[0m \u001b[1;33m<<\u001b[0m \u001b[1;33m(\u001b[0m\u001b[0mself\u001b[0m\u001b[1;33m.\u001b[0m\u001b[0mdtype\u001b[0m\u001b[1;33m.\u001b[0m\u001b[0mitemsize\u001b[0m \u001b[1;33m<<\u001b[0m \u001b[1;36m3\u001b[0m\u001b[1;33m)\u001b[0m\u001b[1;33m)\u001b[0m \u001b[1;33m-\u001b[0m \u001b[1;36m1\u001b[0m\u001b[1;33m)\u001b[0m\u001b[1;33m.\u001b[0m\u001b[0mastype\u001b[0m\u001b[1;33m(\u001b[0m\u001b[0mself\u001b[0m\u001b[1;33m.\u001b[0m\u001b[0mdtype\u001b[0m\u001b[1;33m)\u001b[0m\u001b[1;33m\u001b[0m\u001b[0m\n",
      "\u001b[1;32mC:\\Anaconda3\\lib\\site-packages\\skvideo\\io\\abstract.py\u001b[0m in \u001b[0;36m_warmStart\u001b[1;34m(self, M, N, C, dtype)\u001b[0m\n\u001b[0;32m    460\u001b[0m                                   UserWarning)\n\u001b[0;32m    461\u001b[0m \u001b[1;33m\u001b[0m\u001b[0m\n\u001b[1;32m--> 462\u001b[1;33m         \u001b[0mself\u001b[0m\u001b[1;33m.\u001b[0m\u001b[0m_createProcess\u001b[0m\u001b[1;33m(\u001b[0m\u001b[0mself\u001b[0m\u001b[1;33m.\u001b[0m\u001b[0minputdict\u001b[0m\u001b[1;33m,\u001b[0m \u001b[0mself\u001b[0m\u001b[1;33m.\u001b[0m\u001b[0moutputdict\u001b[0m\u001b[1;33m,\u001b[0m \u001b[0mself\u001b[0m\u001b[1;33m.\u001b[0m\u001b[0mverbosity\u001b[0m\u001b[1;33m)\u001b[0m\u001b[1;33m\u001b[0m\u001b[0m\n\u001b[0m\u001b[0;32m    463\u001b[0m \u001b[1;33m\u001b[0m\u001b[0m\n\u001b[0;32m    464\u001b[0m     \u001b[1;32mdef\u001b[0m \u001b[0m_createProcess\u001b[0m\u001b[1;33m(\u001b[0m\u001b[0mself\u001b[0m\u001b[1;33m,\u001b[0m \u001b[0minputdict\u001b[0m\u001b[1;33m,\u001b[0m \u001b[0moutputdict\u001b[0m\u001b[1;33m,\u001b[0m \u001b[0mverbosity\u001b[0m\u001b[1;33m)\u001b[0m\u001b[1;33m:\u001b[0m\u001b[1;33m\u001b[0m\u001b[0m\n",
      "\u001b[1;32mC:\\Anaconda3\\lib\\site-packages\\skvideo\\io\\ffmpeg.py\u001b[0m in \u001b[0;36m_createProcess\u001b[1;34m(self, inputdict, outputdict, verbosity)\u001b[0m\n\u001b[0;32m    106\u001b[0m         \u001b[1;32melse\u001b[0m\u001b[1;33m:\u001b[0m\u001b[1;33m\u001b[0m\u001b[0m\n\u001b[0;32m    107\u001b[0m             self._proc = sp.Popen(cmd, stdin=sp.PIPE,\n\u001b[1;32m--> 108\u001b[1;33m                                   stdout=self.DEVNULL, stderr=sp.STDOUT)\n\u001b[0m\u001b[0;32m    109\u001b[0m \u001b[1;33m\u001b[0m\u001b[0m\n",
      "\u001b[1;32mC:\\Anaconda3\\lib\\subprocess.py\u001b[0m in \u001b[0;36m__init__\u001b[1;34m(self, args, bufsize, executable, stdin, stdout, stderr, preexec_fn, close_fds, shell, cwd, env, universal_newlines, startupinfo, creationflags, restore_signals, start_new_session, pass_fds, encoding, errors)\u001b[0m\n\u001b[0;32m    594\u001b[0m                  pass_fds=(), *, encoding=None, errors=None):\n\u001b[0;32m    595\u001b[0m         \u001b[1;34m\"\"\"Create new Popen instance.\"\"\"\u001b[0m\u001b[1;33m\u001b[0m\u001b[0m\n\u001b[1;32m--> 596\u001b[1;33m         \u001b[0m_cleanup\u001b[0m\u001b[1;33m(\u001b[0m\u001b[1;33m)\u001b[0m\u001b[1;33m\u001b[0m\u001b[0m\n\u001b[0m\u001b[0;32m    597\u001b[0m         \u001b[1;31m# Held while anything is calling waitpid before returncode has been\u001b[0m\u001b[1;33m\u001b[0m\u001b[1;33m\u001b[0m\u001b[0m\n\u001b[0;32m    598\u001b[0m         \u001b[1;31m# updated to prevent clobbering returncode if wait() or poll() are\u001b[0m\u001b[1;33m\u001b[0m\u001b[1;33m\u001b[0m\u001b[0m\n",
      "\u001b[1;32mC:\\Anaconda3\\lib\\subprocess.py\u001b[0m in \u001b[0;36m_cleanup\u001b[1;34m()\u001b[0m\n\u001b[0;32m    203\u001b[0m \u001b[1;32mdef\u001b[0m \u001b[0m_cleanup\u001b[0m\u001b[1;33m(\u001b[0m\u001b[1;33m)\u001b[0m\u001b[1;33m:\u001b[0m\u001b[1;33m\u001b[0m\u001b[0m\n\u001b[0;32m    204\u001b[0m     \u001b[1;32mfor\u001b[0m \u001b[0minst\u001b[0m \u001b[1;32min\u001b[0m \u001b[0m_active\u001b[0m\u001b[1;33m[\u001b[0m\u001b[1;33m:\u001b[0m\u001b[1;33m]\u001b[0m\u001b[1;33m:\u001b[0m\u001b[1;33m\u001b[0m\u001b[0m\n\u001b[1;32m--> 205\u001b[1;33m         \u001b[0mres\u001b[0m \u001b[1;33m=\u001b[0m \u001b[0minst\u001b[0m\u001b[1;33m.\u001b[0m\u001b[0m_internal_poll\u001b[0m\u001b[1;33m(\u001b[0m\u001b[0m_deadstate\u001b[0m\u001b[1;33m=\u001b[0m\u001b[0msys\u001b[0m\u001b[1;33m.\u001b[0m\u001b[0mmaxsize\u001b[0m\u001b[1;33m)\u001b[0m\u001b[1;33m\u001b[0m\u001b[0m\n\u001b[0m\u001b[0;32m    206\u001b[0m         \u001b[1;32mif\u001b[0m \u001b[0mres\u001b[0m \u001b[1;32mis\u001b[0m \u001b[1;32mnot\u001b[0m \u001b[1;32mNone\u001b[0m\u001b[1;33m:\u001b[0m\u001b[1;33m\u001b[0m\u001b[0m\n\u001b[0;32m    207\u001b[0m             \u001b[1;32mtry\u001b[0m\u001b[1;33m:\u001b[0m\u001b[1;33m\u001b[0m\u001b[0m\n",
      "\u001b[1;32mC:\\Anaconda3\\lib\\subprocess.py\u001b[0m in \u001b[0;36m_internal_poll\u001b[1;34m(self, _deadstate, _WaitForSingleObject, _WAIT_OBJECT_0, _GetExitCodeProcess)\u001b[0m\n\u001b[0;32m   1033\u001b[0m             \"\"\"\n\u001b[0;32m   1034\u001b[0m             \u001b[1;32mif\u001b[0m \u001b[0mself\u001b[0m\u001b[1;33m.\u001b[0m\u001b[0mreturncode\u001b[0m \u001b[1;32mis\u001b[0m \u001b[1;32mNone\u001b[0m\u001b[1;33m:\u001b[0m\u001b[1;33m\u001b[0m\u001b[0m\n\u001b[1;32m-> 1035\u001b[1;33m                 \u001b[1;32mif\u001b[0m \u001b[0m_WaitForSingleObject\u001b[0m\u001b[1;33m(\u001b[0m\u001b[0mself\u001b[0m\u001b[1;33m.\u001b[0m\u001b[0m_handle\u001b[0m\u001b[1;33m,\u001b[0m \u001b[1;36m0\u001b[0m\u001b[1;33m)\u001b[0m \u001b[1;33m==\u001b[0m \u001b[0m_WAIT_OBJECT_0\u001b[0m\u001b[1;33m:\u001b[0m\u001b[1;33m\u001b[0m\u001b[0m\n\u001b[0m\u001b[0;32m   1036\u001b[0m                     \u001b[0mself\u001b[0m\u001b[1;33m.\u001b[0m\u001b[0mreturncode\u001b[0m \u001b[1;33m=\u001b[0m \u001b[0m_GetExitCodeProcess\u001b[0m\u001b[1;33m(\u001b[0m\u001b[0mself\u001b[0m\u001b[1;33m.\u001b[0m\u001b[0m_handle\u001b[0m\u001b[1;33m)\u001b[0m\u001b[1;33m\u001b[0m\u001b[0m\n\u001b[0;32m   1037\u001b[0m             \u001b[1;32mreturn\u001b[0m \u001b[0mself\u001b[0m\u001b[1;33m.\u001b[0m\u001b[0mreturncode\u001b[0m\u001b[1;33m\u001b[0m\u001b[0m\n",
      "\u001b[1;31mOSError\u001b[0m: [WinError 6] Descripteur non valide"
     ]
    }
   ],
   "source": [
    "epoch_test = 15\n",
    "env = Environment(grid_size=size, max_time=T,temperature=0.7)\n",
    "agent_cnn = DQN_CNN(size, lr=.1, epsilon = 0.6, memory_size=500, batch_size = 64)\n",
    "agent_cnn.load(name_weights='cnn_trainmodel.h5',name_model='cnn_trainmodel.json')\n",
    "\n",
    "agent_fc = DQN_FC(size, lr=.1, epsilon = 0.6, memory_size=500, batch_size = 64)\n",
    "agent_cnn.load(name_weights='fc_trainmodel.h5',name_model='fc_trainmodel.json')\n",
    "print('Test of the CNN')\n",
    "test(agent_cnn,env,epochs_test,prefix='cnn_test')\n",
    "print('Test of the FC')\n",
    "test(agent_fc,env,epochs_test,prefix='fc_test')"
   ]
  },
  {
   "cell_type": "code",
   "execution_count": 30,
   "metadata": {},
   "outputs": [
    {
     "data": {
      "text/html": [
       "<video alt=\"test\" controls>\n",
       "                <source src=\"data:video/mp4;base64,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\" type=\"video/mp4\" />\n",
       "             </video>"
      ],
      "text/plain": [
       "<IPython.core.display.HTML object>"
      ]
     },
     "execution_count": 30,
     "metadata": {},
     "output_type": "execute_result"
    }
   ],
   "source": [
    "HTML(display_videos('cnn_test10.mp4'))"
   ]
  },
  {
   "cell_type": "code",
   "execution_count": 34,
   "metadata": {},
   "outputs": [
    {
     "data": {
      "text/html": [
       "<video alt=\"test\" controls>\n",
       "                <source src=\"data:video/mp4;base64,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\" type=\"video/mp4\" />\n",
       "             </video>"
      ],
      "text/plain": [
       "<IPython.core.display.HTML object>"
      ]
     },
     "execution_count": 34,
     "metadata": {},
     "output_type": "execute_result"
    }
   ],
   "source": [
    "HTML(display_videos('fc_test10.mp4'))"
   ]
  },
  {
   "cell_type": "markdown",
   "metadata": {},
   "source": [
    "The main issue that we observe is that the rat tend not to explore the environment and often get stuck between two positions. mainly happens when the rat do not see anymore reward in its surrounding. With this strategy, the score do not decrease but it do not increase anymore as well.\n",
    "Both the scores increase with the temperature because there are more rewards, but overall, the CNN agent performs the best.\n",
    "It seems that the more the temperature rises, the more the gap between the CNN an the FCN is wide. The CNN adapts better to the increasing temperature."
   ]
  },
  {
   "cell_type": "markdown",
   "metadata": {},
   "source": [
    "***\n",
    "\n",
    "The algorithm tends to not explore the map which can be an issue. We propose two ideas in order to encourage exploration:\n",
    "1. Incorporating a decreasing $\\epsilon$-greedy exploration. You can use the method ```set_epsilon```\n",
    "2. Append via the environment a new state that describes if a cell has been visited or not\n",
    "\n",
    "***\n",
    "__Question 10__ Design a new ```train_explore``` function and environment class ```EnvironmentExploring``` to tackle the issue of exploration.\n",
    "\n"
   ]
  },
  {
   "cell_type": "code",
   "execution_count": null,
   "metadata": {
    "collapsed": true
   },
   "outputs": [],
   "source": [
    "def train_explore(agent,env,epoch,prefix=''):\n",
    "    pass\n",
    "        \n",
    "class EnvironmentExploring(object):\n",
    "    def __init__(self, grid_size=10, max_time=500, temperature=0.1):\n",
    "        pass\n",
    "    \n",
    "## use those samples of code:\n",
    "#In train explore:\n",
    "state, reward, game_over = env.act(action, train=True)\n",
    "\n",
    "## In Environment exploring:\n",
    "# You will have to change n_state to 3 because you will use one more layer!\n",
    "reward = 0\n",
    "if train:\n",
    "    reward = -self.malus_position[self.x, self.y]\n",
    "self.malus_position[self.x, self.y] = 0.1\n",
    "\n",
    "reward = reward + self.board[self.x, self.y]\n",
    "# 3 \"feature\" states instead of 2\n",
    "state = np.concatenate((self.malus_position.reshape(self.grid_size, self.grid_size,1),\n",
    "                                self.board.reshape(self.grid_size, self.grid_size,1),\n",
    "                        self.position.reshape(self.grid_size, self.grid_size,1)),axis=2)"
   ]
  },
  {
   "cell_type": "code",
   "execution_count": null,
   "metadata": {
    "collapsed": true
   },
   "outputs": [],
   "source": [
    "# Training\n",
    "env = EnvironmentExploring(grid_size=size, max_time=T, temperature=0.3)\n",
    "agent = DQN_CNN(size, lr=.1, epsilon = 0.1, memory_size=2000, batch_size = 32,n_state=3)\n",
    "train_explore(agent, env, epochs_train, prefix='cnn_train_explore')\n",
    "HTML(display_videos('cnn_train_explore10.mp4'))"
   ]
  },
  {
   "cell_type": "code",
   "execution_count": null,
   "metadata": {
    "collapsed": true
   },
   "outputs": [],
   "source": [
    "# Evaluation\n",
    "test(agent,env,epochs_test,prefix='cnn_test_explore')\n",
    "HTML(display_videos('cnn_test_explore10.mp4'))"
   ]
  },
  {
   "cell_type": "markdown",
   "metadata": {},
   "source": [
    "***\n",
    "***\n",
    "__BONUS question__ Use the expert DQN from the previous question to generate some winning games. Train a model that mimicks its behavior. Compare the performances."
   ]
  },
  {
   "cell_type": "markdown",
   "metadata": {},
   "source": []
  },
  {
   "cell_type": "markdown",
   "metadata": {},
   "source": [
    "***"
   ]
  }
 ],
 "metadata": {
  "kernelspec": {
   "display_name": "Python 3",
   "language": "python",
   "name": "python3"
  },
  "language_info": {
   "codemirror_mode": {
    "name": "ipython",
    "version": 3
   },
   "file_extension": ".py",
   "mimetype": "text/x-python",
   "name": "python",
   "nbconvert_exporter": "python",
   "pygments_lexer": "ipython3",
   "version": "3.6.3"
  }
 },
 "nbformat": 4,
 "nbformat_minor": 2
}
